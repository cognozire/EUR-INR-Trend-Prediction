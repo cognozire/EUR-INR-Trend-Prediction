{
 "cells": [
  {
   "cell_type": "markdown",
   "metadata": {},
   "source": [
    "# EUR/INR Currency Trend Prediction"
   ]
  },
  {
   "cell_type": "markdown",
   "metadata": {},
   "source": [
    "### Importing Necessary Libraries"
   ]
  },
  {
   "cell_type": "code",
   "execution_count": 18,
   "metadata": {},
   "outputs": [],
   "source": [
    "import pandas as pd\n",
    "import numpy as np\n",
    "from sklearn.model_selection import train_test_split\n",
    "from sklearn.ensemble import RandomForestRegressor\n",
    "from sklearn.metrics import mean_absolute_error, mean_squared_error\n",
    "from sklearn.preprocessing import StandardScaler\n",
    "from sklearn.metrics import r2_score\n",
    "import matplotlib.pyplot as plt"
   ]
  },
  {
   "cell_type": "markdown",
   "metadata": {},
   "source": [
    "### Reading the Data"
   ]
  },
  {
   "cell_type": "code",
   "execution_count": 3,
   "metadata": {},
   "outputs": [
    {
     "data": {
      "text/html": [
       "<div>\n",
       "<style scoped>\n",
       "    .dataframe tbody tr th:only-of-type {\n",
       "        vertical-align: middle;\n",
       "    }\n",
       "\n",
       "    .dataframe tbody tr th {\n",
       "        vertical-align: top;\n",
       "    }\n",
       "\n",
       "    .dataframe thead th {\n",
       "        text-align: right;\n",
       "    }\n",
       "</style>\n",
       "<table border=\"1\" class=\"dataframe\">\n",
       "  <thead>\n",
       "    <tr style=\"text-align: right;\">\n",
       "      <th></th>\n",
       "      <th>Date</th>\n",
       "      <th>Price</th>\n",
       "      <th>Open</th>\n",
       "      <th>High</th>\n",
       "      <th>Low</th>\n",
       "      <th>Vol.</th>\n",
       "      <th>Change %</th>\n",
       "    </tr>\n",
       "  </thead>\n",
       "  <tbody>\n",
       "    <tr>\n",
       "      <th>0</th>\n",
       "      <td>12/29/2023</td>\n",
       "      <td>91.869</td>\n",
       "      <td>91.9765</td>\n",
       "      <td>92.2030</td>\n",
       "      <td>91.8570</td>\n",
       "      <td>NaN</td>\n",
       "      <td>-0.12%</td>\n",
       "    </tr>\n",
       "    <tr>\n",
       "      <th>1</th>\n",
       "      <td>12/28/2023</td>\n",
       "      <td>91.977</td>\n",
       "      <td>92.4690</td>\n",
       "      <td>92.6650</td>\n",
       "      <td>91.9360</td>\n",
       "      <td>NaN</td>\n",
       "      <td>-0.51%</td>\n",
       "    </tr>\n",
       "    <tr>\n",
       "      <th>2</th>\n",
       "      <td>12/27/2023</td>\n",
       "      <td>92.446</td>\n",
       "      <td>91.8370</td>\n",
       "      <td>92.6360</td>\n",
       "      <td>91.7380</td>\n",
       "      <td>NaN</td>\n",
       "      <td>0.68%</td>\n",
       "    </tr>\n",
       "    <tr>\n",
       "      <th>3</th>\n",
       "      <td>12/26/2023</td>\n",
       "      <td>91.823</td>\n",
       "      <td>91.5610</td>\n",
       "      <td>91.8690</td>\n",
       "      <td>91.5565</td>\n",
       "      <td>NaN</td>\n",
       "      <td>0.31%</td>\n",
       "    </tr>\n",
       "    <tr>\n",
       "      <th>4</th>\n",
       "      <td>12/25/2023</td>\n",
       "      <td>91.539</td>\n",
       "      <td>91.6520</td>\n",
       "      <td>91.6770</td>\n",
       "      <td>91.4565</td>\n",
       "      <td>NaN</td>\n",
       "      <td>-0.03%</td>\n",
       "    </tr>\n",
       "    <tr>\n",
       "      <th>...</th>\n",
       "      <td>...</td>\n",
       "      <td>...</td>\n",
       "      <td>...</td>\n",
       "      <td>...</td>\n",
       "      <td>...</td>\n",
       "      <td>...</td>\n",
       "      <td>...</td>\n",
       "    </tr>\n",
       "    <tr>\n",
       "      <th>255</th>\n",
       "      <td>01/06/2023</td>\n",
       "      <td>87.568</td>\n",
       "      <td>86.9070</td>\n",
       "      <td>87.8640</td>\n",
       "      <td>86.7110</td>\n",
       "      <td>101.63K</td>\n",
       "      <td>0.81%</td>\n",
       "    </tr>\n",
       "    <tr>\n",
       "      <th>256</th>\n",
       "      <td>01/05/2023</td>\n",
       "      <td>86.862</td>\n",
       "      <td>87.6600</td>\n",
       "      <td>87.9105</td>\n",
       "      <td>86.8285</td>\n",
       "      <td>87.73K</td>\n",
       "      <td>-0.83%</td>\n",
       "    </tr>\n",
       "    <tr>\n",
       "      <th>257</th>\n",
       "      <td>01/04/2023</td>\n",
       "      <td>87.591</td>\n",
       "      <td>87.3155</td>\n",
       "      <td>88.0430</td>\n",
       "      <td>87.2535</td>\n",
       "      <td>96.93K</td>\n",
       "      <td>0.30%</td>\n",
       "    </tr>\n",
       "    <tr>\n",
       "      <th>258</th>\n",
       "      <td>01/03/2023</td>\n",
       "      <td>87.327</td>\n",
       "      <td>88.2645</td>\n",
       "      <td>88.4380</td>\n",
       "      <td>87.2845</td>\n",
       "      <td>100.98K</td>\n",
       "      <td>-1.02%</td>\n",
       "    </tr>\n",
       "    <tr>\n",
       "      <th>259</th>\n",
       "      <td>01/02/2023</td>\n",
       "      <td>88.223</td>\n",
       "      <td>88.5530</td>\n",
       "      <td>88.6030</td>\n",
       "      <td>88.1310</td>\n",
       "      <td>23.65K</td>\n",
       "      <td>-0.34%</td>\n",
       "    </tr>\n",
       "  </tbody>\n",
       "</table>\n",
       "<p>260 rows × 7 columns</p>\n",
       "</div>"
      ],
      "text/plain": [
       "           Date   Price     Open     High      Low     Vol. Change %\n",
       "0    12/29/2023  91.869  91.9765  92.2030  91.8570      NaN   -0.12%\n",
       "1    12/28/2023  91.977  92.4690  92.6650  91.9360      NaN   -0.51%\n",
       "2    12/27/2023  92.446  91.8370  92.6360  91.7380      NaN    0.68%\n",
       "3    12/26/2023  91.823  91.5610  91.8690  91.5565      NaN    0.31%\n",
       "4    12/25/2023  91.539  91.6520  91.6770  91.4565      NaN   -0.03%\n",
       "..          ...     ...      ...      ...      ...      ...      ...\n",
       "255  01/06/2023  87.568  86.9070  87.8640  86.7110  101.63K    0.81%\n",
       "256  01/05/2023  86.862  87.6600  87.9105  86.8285   87.73K   -0.83%\n",
       "257  01/04/2023  87.591  87.3155  88.0430  87.2535   96.93K    0.30%\n",
       "258  01/03/2023  87.327  88.2645  88.4380  87.2845  100.98K   -1.02%\n",
       "259  01/02/2023  88.223  88.5530  88.6030  88.1310   23.65K   -0.34%\n",
       "\n",
       "[260 rows x 7 columns]"
      ]
     },
     "execution_count": 3,
     "metadata": {},
     "output_type": "execute_result"
    }
   ],
   "source": [
    "df = pd.read_csv('EUR_INR_data.csv')\n",
    "df"
   ]
  },
  {
   "cell_type": "markdown",
   "metadata": {},
   "source": [
    "### Data Exploration"
   ]
  },
  {
   "cell_type": "code",
   "execution_count": 4,
   "metadata": {},
   "outputs": [
    {
     "name": "stdout",
     "output_type": "stream",
     "text": [
      "<class 'pandas.core.frame.DataFrame'>\n",
      "RangeIndex: 260 entries, 0 to 259\n",
      "Data columns (total 7 columns):\n",
      " #   Column    Non-Null Count  Dtype  \n",
      "---  ------    --------------  -----  \n",
      " 0   Date      260 non-null    object \n",
      " 1   Price     260 non-null    float64\n",
      " 2   Open      260 non-null    float64\n",
      " 3   High      260 non-null    float64\n",
      " 4   Low       260 non-null    float64\n",
      " 5   Vol.      18 non-null     object \n",
      " 6   Change %  260 non-null    object \n",
      "dtypes: float64(4), object(3)\n",
      "memory usage: 14.3+ KB\n"
     ]
    }
   ],
   "source": [
    "df.info()"
   ]
  },
  {
   "cell_type": "code",
   "execution_count": 5,
   "metadata": {},
   "outputs": [
    {
     "data": {
      "text/html": [
       "<div>\n",
       "<style scoped>\n",
       "    .dataframe tbody tr th:only-of-type {\n",
       "        vertical-align: middle;\n",
       "    }\n",
       "\n",
       "    .dataframe tbody tr th {\n",
       "        vertical-align: top;\n",
       "    }\n",
       "\n",
       "    .dataframe thead th {\n",
       "        text-align: right;\n",
       "    }\n",
       "</style>\n",
       "<table border=\"1\" class=\"dataframe\">\n",
       "  <thead>\n",
       "    <tr style=\"text-align: right;\">\n",
       "      <th></th>\n",
       "      <th>Price</th>\n",
       "      <th>Open</th>\n",
       "      <th>High</th>\n",
       "      <th>Low</th>\n",
       "    </tr>\n",
       "  </thead>\n",
       "  <tbody>\n",
       "    <tr>\n",
       "      <th>count</th>\n",
       "      <td>260.000000</td>\n",
       "      <td>260.000000</td>\n",
       "      <td>260.000000</td>\n",
       "      <td>260.000000</td>\n",
       "    </tr>\n",
       "    <tr>\n",
       "      <th>mean</th>\n",
       "      <td>89.276200</td>\n",
       "      <td>89.295269</td>\n",
       "      <td>89.624719</td>\n",
       "      <td>89.003942</td>\n",
       "    </tr>\n",
       "    <tr>\n",
       "      <th>std</th>\n",
       "      <td>1.249075</td>\n",
       "      <td>1.242751</td>\n",
       "      <td>1.227101</td>\n",
       "      <td>1.250687</td>\n",
       "    </tr>\n",
       "    <tr>\n",
       "      <th>min</th>\n",
       "      <td>86.408000</td>\n",
       "      <td>86.421500</td>\n",
       "      <td>86.700500</td>\n",
       "      <td>86.222500</td>\n",
       "    </tr>\n",
       "    <tr>\n",
       "      <th>25%</th>\n",
       "      <td>88.321000</td>\n",
       "      <td>88.360125</td>\n",
       "      <td>88.652875</td>\n",
       "      <td>87.977000</td>\n",
       "    </tr>\n",
       "    <tr>\n",
       "      <th>50%</th>\n",
       "      <td>89.189000</td>\n",
       "      <td>89.194500</td>\n",
       "      <td>89.525000</td>\n",
       "      <td>88.958000</td>\n",
       "    </tr>\n",
       "    <tr>\n",
       "      <th>75%</th>\n",
       "      <td>90.130250</td>\n",
       "      <td>90.187750</td>\n",
       "      <td>90.484125</td>\n",
       "      <td>89.906750</td>\n",
       "    </tr>\n",
       "    <tr>\n",
       "      <th>max</th>\n",
       "      <td>92.446000</td>\n",
       "      <td>92.469000</td>\n",
       "      <td>92.665000</td>\n",
       "      <td>91.970500</td>\n",
       "    </tr>\n",
       "  </tbody>\n",
       "</table>\n",
       "</div>"
      ],
      "text/plain": [
       "            Price        Open        High         Low\n",
       "count  260.000000  260.000000  260.000000  260.000000\n",
       "mean    89.276200   89.295269   89.624719   89.003942\n",
       "std      1.249075    1.242751    1.227101    1.250687\n",
       "min     86.408000   86.421500   86.700500   86.222500\n",
       "25%     88.321000   88.360125   88.652875   87.977000\n",
       "50%     89.189000   89.194500   89.525000   88.958000\n",
       "75%     90.130250   90.187750   90.484125   89.906750\n",
       "max     92.446000   92.469000   92.665000   91.970500"
      ]
     },
     "execution_count": 5,
     "metadata": {},
     "output_type": "execute_result"
    }
   ],
   "source": [
    "df.describe()"
   ]
  },
  {
   "cell_type": "markdown",
   "metadata": {},
   "source": [
    "### Data Preprocessing"
   ]
  },
  {
   "cell_type": "code",
   "execution_count": 6,
   "metadata": {},
   "outputs": [
    {
     "data": {
      "text/html": [
       "<div>\n",
       "<style scoped>\n",
       "    .dataframe tbody tr th:only-of-type {\n",
       "        vertical-align: middle;\n",
       "    }\n",
       "\n",
       "    .dataframe tbody tr th {\n",
       "        vertical-align: top;\n",
       "    }\n",
       "\n",
       "    .dataframe thead th {\n",
       "        text-align: right;\n",
       "    }\n",
       "</style>\n",
       "<table border=\"1\" class=\"dataframe\">\n",
       "  <thead>\n",
       "    <tr style=\"text-align: right;\">\n",
       "      <th></th>\n",
       "      <th>Price</th>\n",
       "      <th>Open</th>\n",
       "      <th>High</th>\n",
       "      <th>Low</th>\n",
       "      <th>Vol.</th>\n",
       "      <th>Change %</th>\n",
       "    </tr>\n",
       "  </thead>\n",
       "  <tbody>\n",
       "    <tr>\n",
       "      <th>0</th>\n",
       "      <td>91.869</td>\n",
       "      <td>91.9765</td>\n",
       "      <td>92.2030</td>\n",
       "      <td>91.8570</td>\n",
       "      <td>NaN</td>\n",
       "      <td>-0.12%</td>\n",
       "    </tr>\n",
       "    <tr>\n",
       "      <th>1</th>\n",
       "      <td>91.977</td>\n",
       "      <td>92.4690</td>\n",
       "      <td>92.6650</td>\n",
       "      <td>91.9360</td>\n",
       "      <td>NaN</td>\n",
       "      <td>-0.51%</td>\n",
       "    </tr>\n",
       "    <tr>\n",
       "      <th>2</th>\n",
       "      <td>92.446</td>\n",
       "      <td>91.8370</td>\n",
       "      <td>92.6360</td>\n",
       "      <td>91.7380</td>\n",
       "      <td>NaN</td>\n",
       "      <td>0.68%</td>\n",
       "    </tr>\n",
       "    <tr>\n",
       "      <th>3</th>\n",
       "      <td>91.823</td>\n",
       "      <td>91.5610</td>\n",
       "      <td>91.8690</td>\n",
       "      <td>91.5565</td>\n",
       "      <td>NaN</td>\n",
       "      <td>0.31%</td>\n",
       "    </tr>\n",
       "    <tr>\n",
       "      <th>4</th>\n",
       "      <td>91.539</td>\n",
       "      <td>91.6520</td>\n",
       "      <td>91.6770</td>\n",
       "      <td>91.4565</td>\n",
       "      <td>NaN</td>\n",
       "      <td>-0.03%</td>\n",
       "    </tr>\n",
       "    <tr>\n",
       "      <th>...</th>\n",
       "      <td>...</td>\n",
       "      <td>...</td>\n",
       "      <td>...</td>\n",
       "      <td>...</td>\n",
       "      <td>...</td>\n",
       "      <td>...</td>\n",
       "    </tr>\n",
       "    <tr>\n",
       "      <th>255</th>\n",
       "      <td>87.568</td>\n",
       "      <td>86.9070</td>\n",
       "      <td>87.8640</td>\n",
       "      <td>86.7110</td>\n",
       "      <td>101.63K</td>\n",
       "      <td>0.81%</td>\n",
       "    </tr>\n",
       "    <tr>\n",
       "      <th>256</th>\n",
       "      <td>86.862</td>\n",
       "      <td>87.6600</td>\n",
       "      <td>87.9105</td>\n",
       "      <td>86.8285</td>\n",
       "      <td>87.73K</td>\n",
       "      <td>-0.83%</td>\n",
       "    </tr>\n",
       "    <tr>\n",
       "      <th>257</th>\n",
       "      <td>87.591</td>\n",
       "      <td>87.3155</td>\n",
       "      <td>88.0430</td>\n",
       "      <td>87.2535</td>\n",
       "      <td>96.93K</td>\n",
       "      <td>0.30%</td>\n",
       "    </tr>\n",
       "    <tr>\n",
       "      <th>258</th>\n",
       "      <td>87.327</td>\n",
       "      <td>88.2645</td>\n",
       "      <td>88.4380</td>\n",
       "      <td>87.2845</td>\n",
       "      <td>100.98K</td>\n",
       "      <td>-1.02%</td>\n",
       "    </tr>\n",
       "    <tr>\n",
       "      <th>259</th>\n",
       "      <td>88.223</td>\n",
       "      <td>88.5530</td>\n",
       "      <td>88.6030</td>\n",
       "      <td>88.1310</td>\n",
       "      <td>23.65K</td>\n",
       "      <td>-0.34%</td>\n",
       "    </tr>\n",
       "  </tbody>\n",
       "</table>\n",
       "<p>260 rows × 6 columns</p>\n",
       "</div>"
      ],
      "text/plain": [
       "      Price     Open     High      Low     Vol. Change %\n",
       "0    91.869  91.9765  92.2030  91.8570      NaN   -0.12%\n",
       "1    91.977  92.4690  92.6650  91.9360      NaN   -0.51%\n",
       "2    92.446  91.8370  92.6360  91.7380      NaN    0.68%\n",
       "3    91.823  91.5610  91.8690  91.5565      NaN    0.31%\n",
       "4    91.539  91.6520  91.6770  91.4565      NaN   -0.03%\n",
       "..      ...      ...      ...      ...      ...      ...\n",
       "255  87.568  86.9070  87.8640  86.7110  101.63K    0.81%\n",
       "256  86.862  87.6600  87.9105  86.8285   87.73K   -0.83%\n",
       "257  87.591  87.3155  88.0430  87.2535   96.93K    0.30%\n",
       "258  87.327  88.2645  88.4380  87.2845  100.98K   -1.02%\n",
       "259  88.223  88.5530  88.6030  88.1310   23.65K   -0.34%\n",
       "\n",
       "[260 rows x 6 columns]"
      ]
     },
     "execution_count": 6,
     "metadata": {},
     "output_type": "execute_result"
    }
   ],
   "source": [
    "# the 'Date' attribute can be dropped since we're not considering the data as a time series one\n",
    "# rather we want to see how the 'Price' changes based on other factors\n",
    "\n",
    "df.drop(['Date'], axis=1, inplace=True)\n",
    "df"
   ]
  },
  {
   "cell_type": "code",
   "execution_count": 9,
   "metadata": {},
   "outputs": [
    {
     "data": {
      "text/html": [
       "<div>\n",
       "<style scoped>\n",
       "    .dataframe tbody tr th:only-of-type {\n",
       "        vertical-align: middle;\n",
       "    }\n",
       "\n",
       "    .dataframe tbody tr th {\n",
       "        vertical-align: top;\n",
       "    }\n",
       "\n",
       "    .dataframe thead th {\n",
       "        text-align: right;\n",
       "    }\n",
       "</style>\n",
       "<table border=\"1\" class=\"dataframe\">\n",
       "  <thead>\n",
       "    <tr style=\"text-align: right;\">\n",
       "      <th></th>\n",
       "      <th>Price</th>\n",
       "      <th>Open</th>\n",
       "      <th>High</th>\n",
       "      <th>Low</th>\n",
       "      <th>Change %</th>\n",
       "    </tr>\n",
       "  </thead>\n",
       "  <tbody>\n",
       "    <tr>\n",
       "      <th>0</th>\n",
       "      <td>91.869</td>\n",
       "      <td>91.9765</td>\n",
       "      <td>92.2030</td>\n",
       "      <td>91.8570</td>\n",
       "      <td>-0.12%</td>\n",
       "    </tr>\n",
       "    <tr>\n",
       "      <th>1</th>\n",
       "      <td>91.977</td>\n",
       "      <td>92.4690</td>\n",
       "      <td>92.6650</td>\n",
       "      <td>91.9360</td>\n",
       "      <td>-0.51%</td>\n",
       "    </tr>\n",
       "    <tr>\n",
       "      <th>2</th>\n",
       "      <td>92.446</td>\n",
       "      <td>91.8370</td>\n",
       "      <td>92.6360</td>\n",
       "      <td>91.7380</td>\n",
       "      <td>0.68%</td>\n",
       "    </tr>\n",
       "    <tr>\n",
       "      <th>3</th>\n",
       "      <td>91.823</td>\n",
       "      <td>91.5610</td>\n",
       "      <td>91.8690</td>\n",
       "      <td>91.5565</td>\n",
       "      <td>0.31%</td>\n",
       "    </tr>\n",
       "    <tr>\n",
       "      <th>4</th>\n",
       "      <td>91.539</td>\n",
       "      <td>91.6520</td>\n",
       "      <td>91.6770</td>\n",
       "      <td>91.4565</td>\n",
       "      <td>-0.03%</td>\n",
       "    </tr>\n",
       "    <tr>\n",
       "      <th>...</th>\n",
       "      <td>...</td>\n",
       "      <td>...</td>\n",
       "      <td>...</td>\n",
       "      <td>...</td>\n",
       "      <td>...</td>\n",
       "    </tr>\n",
       "    <tr>\n",
       "      <th>255</th>\n",
       "      <td>87.568</td>\n",
       "      <td>86.9070</td>\n",
       "      <td>87.8640</td>\n",
       "      <td>86.7110</td>\n",
       "      <td>0.81%</td>\n",
       "    </tr>\n",
       "    <tr>\n",
       "      <th>256</th>\n",
       "      <td>86.862</td>\n",
       "      <td>87.6600</td>\n",
       "      <td>87.9105</td>\n",
       "      <td>86.8285</td>\n",
       "      <td>-0.83%</td>\n",
       "    </tr>\n",
       "    <tr>\n",
       "      <th>257</th>\n",
       "      <td>87.591</td>\n",
       "      <td>87.3155</td>\n",
       "      <td>88.0430</td>\n",
       "      <td>87.2535</td>\n",
       "      <td>0.30%</td>\n",
       "    </tr>\n",
       "    <tr>\n",
       "      <th>258</th>\n",
       "      <td>87.327</td>\n",
       "      <td>88.2645</td>\n",
       "      <td>88.4380</td>\n",
       "      <td>87.2845</td>\n",
       "      <td>-1.02%</td>\n",
       "    </tr>\n",
       "    <tr>\n",
       "      <th>259</th>\n",
       "      <td>88.223</td>\n",
       "      <td>88.5530</td>\n",
       "      <td>88.6030</td>\n",
       "      <td>88.1310</td>\n",
       "      <td>-0.34%</td>\n",
       "    </tr>\n",
       "  </tbody>\n",
       "</table>\n",
       "<p>260 rows × 5 columns</p>\n",
       "</div>"
      ],
      "text/plain": [
       "      Price     Open     High      Low Change %\n",
       "0    91.869  91.9765  92.2030  91.8570   -0.12%\n",
       "1    91.977  92.4690  92.6650  91.9360   -0.51%\n",
       "2    92.446  91.8370  92.6360  91.7380    0.68%\n",
       "3    91.823  91.5610  91.8690  91.5565    0.31%\n",
       "4    91.539  91.6520  91.6770  91.4565   -0.03%\n",
       "..      ...      ...      ...      ...      ...\n",
       "255  87.568  86.9070  87.8640  86.7110    0.81%\n",
       "256  86.862  87.6600  87.9105  86.8285   -0.83%\n",
       "257  87.591  87.3155  88.0430  87.2535    0.30%\n",
       "258  87.327  88.2645  88.4380  87.2845   -1.02%\n",
       "259  88.223  88.5530  88.6030  88.1310   -0.34%\n",
       "\n",
       "[260 rows x 5 columns]"
      ]
     },
     "execution_count": 9,
     "metadata": {},
     "output_type": "execute_result"
    }
   ],
   "source": [
    "# we can drop the 'Vol.' attribute as well since only 18/260 records are available, so it won't add much value to the 'Price' prediction\n",
    "\n",
    "df.drop(['Vol.'], axis=1, inplace=True)\n",
    "df"
   ]
  },
  {
   "cell_type": "code",
   "execution_count": 10,
   "metadata": {},
   "outputs": [
    {
     "data": {
      "text/html": [
       "<div>\n",
       "<style scoped>\n",
       "    .dataframe tbody tr th:only-of-type {\n",
       "        vertical-align: middle;\n",
       "    }\n",
       "\n",
       "    .dataframe tbody tr th {\n",
       "        vertical-align: top;\n",
       "    }\n",
       "\n",
       "    .dataframe thead th {\n",
       "        text-align: right;\n",
       "    }\n",
       "</style>\n",
       "<table border=\"1\" class=\"dataframe\">\n",
       "  <thead>\n",
       "    <tr style=\"text-align: right;\">\n",
       "      <th></th>\n",
       "      <th>Price</th>\n",
       "      <th>Open</th>\n",
       "      <th>High</th>\n",
       "      <th>Low</th>\n",
       "      <th>Change %</th>\n",
       "    </tr>\n",
       "  </thead>\n",
       "  <tbody>\n",
       "    <tr>\n",
       "      <th>0</th>\n",
       "      <td>91.869</td>\n",
       "      <td>91.9765</td>\n",
       "      <td>92.2030</td>\n",
       "      <td>91.8570</td>\n",
       "      <td>-0.12</td>\n",
       "    </tr>\n",
       "    <tr>\n",
       "      <th>1</th>\n",
       "      <td>91.977</td>\n",
       "      <td>92.4690</td>\n",
       "      <td>92.6650</td>\n",
       "      <td>91.9360</td>\n",
       "      <td>-0.51</td>\n",
       "    </tr>\n",
       "    <tr>\n",
       "      <th>2</th>\n",
       "      <td>92.446</td>\n",
       "      <td>91.8370</td>\n",
       "      <td>92.6360</td>\n",
       "      <td>91.7380</td>\n",
       "      <td>0.68</td>\n",
       "    </tr>\n",
       "    <tr>\n",
       "      <th>3</th>\n",
       "      <td>91.823</td>\n",
       "      <td>91.5610</td>\n",
       "      <td>91.8690</td>\n",
       "      <td>91.5565</td>\n",
       "      <td>0.31</td>\n",
       "    </tr>\n",
       "    <tr>\n",
       "      <th>4</th>\n",
       "      <td>91.539</td>\n",
       "      <td>91.6520</td>\n",
       "      <td>91.6770</td>\n",
       "      <td>91.4565</td>\n",
       "      <td>-0.03</td>\n",
       "    </tr>\n",
       "    <tr>\n",
       "      <th>...</th>\n",
       "      <td>...</td>\n",
       "      <td>...</td>\n",
       "      <td>...</td>\n",
       "      <td>...</td>\n",
       "      <td>...</td>\n",
       "    </tr>\n",
       "    <tr>\n",
       "      <th>255</th>\n",
       "      <td>87.568</td>\n",
       "      <td>86.9070</td>\n",
       "      <td>87.8640</td>\n",
       "      <td>86.7110</td>\n",
       "      <td>0.81</td>\n",
       "    </tr>\n",
       "    <tr>\n",
       "      <th>256</th>\n",
       "      <td>86.862</td>\n",
       "      <td>87.6600</td>\n",
       "      <td>87.9105</td>\n",
       "      <td>86.8285</td>\n",
       "      <td>-0.83</td>\n",
       "    </tr>\n",
       "    <tr>\n",
       "      <th>257</th>\n",
       "      <td>87.591</td>\n",
       "      <td>87.3155</td>\n",
       "      <td>88.0430</td>\n",
       "      <td>87.2535</td>\n",
       "      <td>0.30</td>\n",
       "    </tr>\n",
       "    <tr>\n",
       "      <th>258</th>\n",
       "      <td>87.327</td>\n",
       "      <td>88.2645</td>\n",
       "      <td>88.4380</td>\n",
       "      <td>87.2845</td>\n",
       "      <td>-1.02</td>\n",
       "    </tr>\n",
       "    <tr>\n",
       "      <th>259</th>\n",
       "      <td>88.223</td>\n",
       "      <td>88.5530</td>\n",
       "      <td>88.6030</td>\n",
       "      <td>88.1310</td>\n",
       "      <td>-0.34</td>\n",
       "    </tr>\n",
       "  </tbody>\n",
       "</table>\n",
       "<p>260 rows × 5 columns</p>\n",
       "</div>"
      ],
      "text/plain": [
       "      Price     Open     High      Low  Change %\n",
       "0    91.869  91.9765  92.2030  91.8570     -0.12\n",
       "1    91.977  92.4690  92.6650  91.9360     -0.51\n",
       "2    92.446  91.8370  92.6360  91.7380      0.68\n",
       "3    91.823  91.5610  91.8690  91.5565      0.31\n",
       "4    91.539  91.6520  91.6770  91.4565     -0.03\n",
       "..      ...      ...      ...      ...       ...\n",
       "255  87.568  86.9070  87.8640  86.7110      0.81\n",
       "256  86.862  87.6600  87.9105  86.8285     -0.83\n",
       "257  87.591  87.3155  88.0430  87.2535      0.30\n",
       "258  87.327  88.2645  88.4380  87.2845     -1.02\n",
       "259  88.223  88.5530  88.6030  88.1310     -0.34\n",
       "\n",
       "[260 rows x 5 columns]"
      ]
     },
     "execution_count": 10,
     "metadata": {},
     "output_type": "execute_result"
    }
   ],
   "source": [
    "# dropping the '#' from the 'Change %' column\n",
    "\n",
    "df['Change %'] = df['Change %'].str.replace('%', '').astype(float)\n",
    "df "
   ]
  },
  {
   "cell_type": "code",
   "execution_count": 11,
   "metadata": {},
   "outputs": [
    {
     "name": "stdout",
     "output_type": "stream",
     "text": [
      "<class 'pandas.core.frame.DataFrame'>\n",
      "RangeIndex: 260 entries, 0 to 259\n",
      "Data columns (total 5 columns):\n",
      " #   Column    Non-Null Count  Dtype  \n",
      "---  ------    --------------  -----  \n",
      " 0   Price     260 non-null    float64\n",
      " 1   Open      260 non-null    float64\n",
      " 2   High      260 non-null    float64\n",
      " 3   Low       260 non-null    float64\n",
      " 4   Change %  260 non-null    float64\n",
      "dtypes: float64(5)\n",
      "memory usage: 10.3 KB\n"
     ]
    }
   ],
   "source": [
    "df.info()"
   ]
  },
  {
   "cell_type": "code",
   "execution_count": 12,
   "metadata": {},
   "outputs": [
    {
     "data": {
      "text/html": [
       "<div>\n",
       "<style scoped>\n",
       "    .dataframe tbody tr th:only-of-type {\n",
       "        vertical-align: middle;\n",
       "    }\n",
       "\n",
       "    .dataframe tbody tr th {\n",
       "        vertical-align: top;\n",
       "    }\n",
       "\n",
       "    .dataframe thead th {\n",
       "        text-align: right;\n",
       "    }\n",
       "</style>\n",
       "<table border=\"1\" class=\"dataframe\">\n",
       "  <thead>\n",
       "    <tr style=\"text-align: right;\">\n",
       "      <th></th>\n",
       "      <th>Open</th>\n",
       "      <th>High</th>\n",
       "      <th>Low</th>\n",
       "      <th>Change %</th>\n",
       "    </tr>\n",
       "  </thead>\n",
       "  <tbody>\n",
       "    <tr>\n",
       "      <th>0</th>\n",
       "      <td>91.9765</td>\n",
       "      <td>92.2030</td>\n",
       "      <td>91.8570</td>\n",
       "      <td>-0.12</td>\n",
       "    </tr>\n",
       "    <tr>\n",
       "      <th>1</th>\n",
       "      <td>92.4690</td>\n",
       "      <td>92.6650</td>\n",
       "      <td>91.9360</td>\n",
       "      <td>-0.51</td>\n",
       "    </tr>\n",
       "    <tr>\n",
       "      <th>2</th>\n",
       "      <td>91.8370</td>\n",
       "      <td>92.6360</td>\n",
       "      <td>91.7380</td>\n",
       "      <td>0.68</td>\n",
       "    </tr>\n",
       "    <tr>\n",
       "      <th>3</th>\n",
       "      <td>91.5610</td>\n",
       "      <td>91.8690</td>\n",
       "      <td>91.5565</td>\n",
       "      <td>0.31</td>\n",
       "    </tr>\n",
       "    <tr>\n",
       "      <th>4</th>\n",
       "      <td>91.6520</td>\n",
       "      <td>91.6770</td>\n",
       "      <td>91.4565</td>\n",
       "      <td>-0.03</td>\n",
       "    </tr>\n",
       "    <tr>\n",
       "      <th>...</th>\n",
       "      <td>...</td>\n",
       "      <td>...</td>\n",
       "      <td>...</td>\n",
       "      <td>...</td>\n",
       "    </tr>\n",
       "    <tr>\n",
       "      <th>255</th>\n",
       "      <td>86.9070</td>\n",
       "      <td>87.8640</td>\n",
       "      <td>86.7110</td>\n",
       "      <td>0.81</td>\n",
       "    </tr>\n",
       "    <tr>\n",
       "      <th>256</th>\n",
       "      <td>87.6600</td>\n",
       "      <td>87.9105</td>\n",
       "      <td>86.8285</td>\n",
       "      <td>-0.83</td>\n",
       "    </tr>\n",
       "    <tr>\n",
       "      <th>257</th>\n",
       "      <td>87.3155</td>\n",
       "      <td>88.0430</td>\n",
       "      <td>87.2535</td>\n",
       "      <td>0.30</td>\n",
       "    </tr>\n",
       "    <tr>\n",
       "      <th>258</th>\n",
       "      <td>88.2645</td>\n",
       "      <td>88.4380</td>\n",
       "      <td>87.2845</td>\n",
       "      <td>-1.02</td>\n",
       "    </tr>\n",
       "    <tr>\n",
       "      <th>259</th>\n",
       "      <td>88.5530</td>\n",
       "      <td>88.6030</td>\n",
       "      <td>88.1310</td>\n",
       "      <td>-0.34</td>\n",
       "    </tr>\n",
       "  </tbody>\n",
       "</table>\n",
       "<p>260 rows × 4 columns</p>\n",
       "</div>"
      ],
      "text/plain": [
       "        Open     High      Low  Change %\n",
       "0    91.9765  92.2030  91.8570     -0.12\n",
       "1    92.4690  92.6650  91.9360     -0.51\n",
       "2    91.8370  92.6360  91.7380      0.68\n",
       "3    91.5610  91.8690  91.5565      0.31\n",
       "4    91.6520  91.6770  91.4565     -0.03\n",
       "..       ...      ...      ...       ...\n",
       "255  86.9070  87.8640  86.7110      0.81\n",
       "256  87.6600  87.9105  86.8285     -0.83\n",
       "257  87.3155  88.0430  87.2535      0.30\n",
       "258  88.2645  88.4380  87.2845     -1.02\n",
       "259  88.5530  88.6030  88.1310     -0.34\n",
       "\n",
       "[260 rows x 4 columns]"
      ]
     },
     "metadata": {},
     "output_type": "display_data"
    },
    {
     "data": {
      "text/plain": [
       "0      91.869\n",
       "1      91.977\n",
       "2      92.446\n",
       "3      91.823\n",
       "4      91.539\n",
       "        ...  \n",
       "255    87.568\n",
       "256    86.862\n",
       "257    87.591\n",
       "258    87.327\n",
       "259    88.223\n",
       "Name: Price, Length: 260, dtype: float64"
      ]
     },
     "metadata": {},
     "output_type": "display_data"
    }
   ],
   "source": [
    "# feature selection\n",
    "\n",
    "features = ['Open', 'High', 'Low', 'Change %']\n",
    "\n",
    "X = df[features]\n",
    "y = df['Price']\n",
    "\n",
    "display(X)\n",
    "display(y)"
   ]
  },
  {
   "cell_type": "markdown",
   "metadata": {},
   "source": [
    "### Splitting for Training & Testing"
   ]
  },
  {
   "cell_type": "code",
   "execution_count": 13,
   "metadata": {},
   "outputs": [],
   "source": [
    "X_train, X_test, y_train, y_test = train_test_split(X, y, test_size=0.2, random_state=42)"
   ]
  },
  {
   "cell_type": "markdown",
   "metadata": {},
   "source": [
    "### Standardizing Features"
   ]
  },
  {
   "cell_type": "code",
   "execution_count": 14,
   "metadata": {},
   "outputs": [],
   "source": [
    "scaler = StandardScaler()\n",
    "X_train_scaled = scaler.fit_transform(X_train)\n",
    "X_test_scaled = scaler.transform(X_test)"
   ]
  },
  {
   "cell_type": "markdown",
   "metadata": {},
   "source": [
    "### Model Training"
   ]
  },
  {
   "cell_type": "code",
   "execution_count": 15,
   "metadata": {},
   "outputs": [
    {
     "data": {
      "text/html": [
       "<style>#sk-container-id-1 {color: black;background-color: white;}#sk-container-id-1 pre{padding: 0;}#sk-container-id-1 div.sk-toggleable {background-color: white;}#sk-container-id-1 label.sk-toggleable__label {cursor: pointer;display: block;width: 100%;margin-bottom: 0;padding: 0.3em;box-sizing: border-box;text-align: center;}#sk-container-id-1 label.sk-toggleable__label-arrow:before {content: \"▸\";float: left;margin-right: 0.25em;color: #696969;}#sk-container-id-1 label.sk-toggleable__label-arrow:hover:before {color: black;}#sk-container-id-1 div.sk-estimator:hover label.sk-toggleable__label-arrow:before {color: black;}#sk-container-id-1 div.sk-toggleable__content {max-height: 0;max-width: 0;overflow: hidden;text-align: left;background-color: #f0f8ff;}#sk-container-id-1 div.sk-toggleable__content pre {margin: 0.2em;color: black;border-radius: 0.25em;background-color: #f0f8ff;}#sk-container-id-1 input.sk-toggleable__control:checked~div.sk-toggleable__content {max-height: 200px;max-width: 100%;overflow: auto;}#sk-container-id-1 input.sk-toggleable__control:checked~label.sk-toggleable__label-arrow:before {content: \"▾\";}#sk-container-id-1 div.sk-estimator input.sk-toggleable__control:checked~label.sk-toggleable__label {background-color: #d4ebff;}#sk-container-id-1 div.sk-label input.sk-toggleable__control:checked~label.sk-toggleable__label {background-color: #d4ebff;}#sk-container-id-1 input.sk-hidden--visually {border: 0;clip: rect(1px 1px 1px 1px);clip: rect(1px, 1px, 1px, 1px);height: 1px;margin: -1px;overflow: hidden;padding: 0;position: absolute;width: 1px;}#sk-container-id-1 div.sk-estimator {font-family: monospace;background-color: #f0f8ff;border: 1px dotted black;border-radius: 0.25em;box-sizing: border-box;margin-bottom: 0.5em;}#sk-container-id-1 div.sk-estimator:hover {background-color: #d4ebff;}#sk-container-id-1 div.sk-parallel-item::after {content: \"\";width: 100%;border-bottom: 1px solid gray;flex-grow: 1;}#sk-container-id-1 div.sk-label:hover label.sk-toggleable__label {background-color: #d4ebff;}#sk-container-id-1 div.sk-serial::before {content: \"\";position: absolute;border-left: 1px solid gray;box-sizing: border-box;top: 0;bottom: 0;left: 50%;z-index: 0;}#sk-container-id-1 div.sk-serial {display: flex;flex-direction: column;align-items: center;background-color: white;padding-right: 0.2em;padding-left: 0.2em;position: relative;}#sk-container-id-1 div.sk-item {position: relative;z-index: 1;}#sk-container-id-1 div.sk-parallel {display: flex;align-items: stretch;justify-content: center;background-color: white;position: relative;}#sk-container-id-1 div.sk-item::before, #sk-container-id-1 div.sk-parallel-item::before {content: \"\";position: absolute;border-left: 1px solid gray;box-sizing: border-box;top: 0;bottom: 0;left: 50%;z-index: -1;}#sk-container-id-1 div.sk-parallel-item {display: flex;flex-direction: column;z-index: 1;position: relative;background-color: white;}#sk-container-id-1 div.sk-parallel-item:first-child::after {align-self: flex-end;width: 50%;}#sk-container-id-1 div.sk-parallel-item:last-child::after {align-self: flex-start;width: 50%;}#sk-container-id-1 div.sk-parallel-item:only-child::after {width: 0;}#sk-container-id-1 div.sk-dashed-wrapped {border: 1px dashed gray;margin: 0 0.4em 0.5em 0.4em;box-sizing: border-box;padding-bottom: 0.4em;background-color: white;}#sk-container-id-1 div.sk-label label {font-family: monospace;font-weight: bold;display: inline-block;line-height: 1.2em;}#sk-container-id-1 div.sk-label-container {text-align: center;}#sk-container-id-1 div.sk-container {/* jupyter's `normalize.less` sets `[hidden] { display: none; }` but bootstrap.min.css set `[hidden] { display: none !important; }` so we also need the `!important` here to be able to override the default hidden behavior on the sphinx rendered scikit-learn.org. See: https://github.com/scikit-learn/scikit-learn/issues/21755 */display: inline-block !important;position: relative;}#sk-container-id-1 div.sk-text-repr-fallback {display: none;}</style><div id=\"sk-container-id-1\" class=\"sk-top-container\"><div class=\"sk-text-repr-fallback\"><pre>RandomForestRegressor(random_state=42)</pre><b>In a Jupyter environment, please rerun this cell to show the HTML representation or trust the notebook. <br />On GitHub, the HTML representation is unable to render, please try loading this page with nbviewer.org.</b></div><div class=\"sk-container\" hidden><div class=\"sk-item\"><div class=\"sk-estimator sk-toggleable\"><input class=\"sk-toggleable__control sk-hidden--visually\" id=\"sk-estimator-id-1\" type=\"checkbox\" checked><label for=\"sk-estimator-id-1\" class=\"sk-toggleable__label sk-toggleable__label-arrow\">RandomForestRegressor</label><div class=\"sk-toggleable__content\"><pre>RandomForestRegressor(random_state=42)</pre></div></div></div></div></div>"
      ],
      "text/plain": [
       "RandomForestRegressor(random_state=42)"
      ]
     },
     "execution_count": 15,
     "metadata": {},
     "output_type": "execute_result"
    }
   ],
   "source": [
    "model = RandomForestRegressor(random_state=42)\n",
    "model.fit(X_train_scaled, y_train)"
   ]
  },
  {
   "cell_type": "markdown",
   "metadata": {},
   "source": [
    "### Making Predictions"
   ]
  },
  {
   "cell_type": "code",
   "execution_count": 16,
   "metadata": {},
   "outputs": [
    {
     "data": {
      "text/plain": [
       "array([90.56891, 90.04425, 88.30092, 90.09442, 87.21374, 87.62311,\n",
       "       89.81047, 88.66808, 90.72327, 90.31198, 91.09773, 86.97023,\n",
       "       89.01132, 88.2896 , 89.15007, 87.62701, 88.87036, 91.53523,\n",
       "       87.57339, 90.81658, 90.66788, 92.00732, 90.38005, 89.14809,\n",
       "       90.32786, 87.81369, 88.56985, 87.96227, 88.56161, 89.65056,\n",
       "       89.7944 , 89.12355, 88.62592, 89.6446 , 89.46888, 90.96574,\n",
       "       87.12146, 90.98573, 90.44262, 90.35764, 89.56639, 88.27929,\n",
       "       91.08088, 89.19753, 90.00782, 89.48132, 89.42366, 88.17613,\n",
       "       90.6657 , 90.00919, 89.29435, 87.95674])"
      ]
     },
     "execution_count": 16,
     "metadata": {},
     "output_type": "execute_result"
    }
   ],
   "source": [
    "y_pred = model.predict(X_test_scaled)\n",
    "y_pred"
   ]
  },
  {
   "cell_type": "markdown",
   "metadata": {},
   "source": [
    "### Evaluating Model Performance"
   ]
  },
  {
   "cell_type": "code",
   "execution_count": 17,
   "metadata": {},
   "outputs": [
    {
     "name": "stdout",
     "output_type": "stream",
     "text": [
      "Mean Absolute Error: 0.1496\n",
      "Mean Squared Error: 0.0477\n"
     ]
    }
   ],
   "source": [
    "mae = mean_absolute_error(y_test, y_pred)\n",
    "mse = mean_squared_error(y_test, y_pred)\n",
    "print(f\"Mean Absolute Error: {mae:.4f}\")\n",
    "print(f\"Mean Squared Error: {mse:.4f}\")"
   ]
  },
  {
   "cell_type": "markdown",
   "metadata": {},
   "source": [
    "### Feature Importance"
   ]
  },
  {
   "cell_type": "code",
   "execution_count": 21,
   "metadata": {},
   "outputs": [
    {
     "name": "stdout",
     "output_type": "stream",
     "text": [
      "Feature Importances:\n",
      "High: 0.6117\n",
      "Low: 0.3721\n",
      "Change %: 0.0114\n",
      "Open: 0.0048\n"
     ]
    }
   ],
   "source": [
    "feature_importances = model.feature_importances_\n",
    "\n",
    "feature_importance_dict = dict(zip(features, feature_importances))\n",
    "\n",
    "print(\"Feature Importances:\")\n",
    "for feature, importance in sorted(feature_importance_dict.items(), key=lambda x: x[1], reverse=True):\n",
    "    print(f\"{feature}: {importance:.4f}\")"
   ]
  },
  {
   "cell_type": "markdown",
   "metadata": {},
   "source": [
    "### Checking Accuracy"
   ]
  },
  {
   "cell_type": "code",
   "execution_count": 19,
   "metadata": {},
   "outputs": [
    {
     "name": "stdout",
     "output_type": "stream",
     "text": [
      "R-squared (Accuracy) Score: 0.9724\n"
     ]
    }
   ],
   "source": [
    "r2 = r2_score(y_test, y_pred)\n",
    "print(f\"R-squared (Accuracy) Score: {r2:.4f}\")"
   ]
  },
  {
   "cell_type": "markdown",
   "metadata": {},
   "source": [
    "## The model for Eur/INR currency trend prediction is 97.24% accurate."
   ]
  },
  {
   "cell_type": "markdown",
   "metadata": {},
   "source": [
    "### Saving the Model & Scaler Object"
   ]
  },
  {
   "cell_type": "code",
   "execution_count": 31,
   "metadata": {},
   "outputs": [
    {
     "data": {
      "text/plain": [
       "['scaler.pkl']"
      ]
     },
     "execution_count": 31,
     "metadata": {},
     "output_type": "execute_result"
    }
   ],
   "source": [
    "import joblib\n",
    "\n",
    "joblib.dump(model, 'currency_prediction_model.pkl')\n",
    "joblib.dump(scaler, 'scaler.pkl')"
   ]
  },
  {
   "cell_type": "markdown",
   "metadata": {},
   "source": [
    "### Making Predictions on a New Record"
   ]
  },
  {
   "cell_type": "code",
   "execution_count": 29,
   "metadata": {},
   "outputs": [
    {
     "name": "stdout",
     "output_type": "stream",
     "text": [
      "[91.90717]\n"
     ]
    },
    {
     "name": "stderr",
     "output_type": "stream",
     "text": [
      "c:\\Users\\DELL\\anaconda3\\lib\\site-packages\\sklearn\\base.py:439: UserWarning: X does not have valid feature names, but StandardScaler was fitted with feature names\n",
      "  warnings.warn(\n"
     ]
    }
   ],
   "source": [
    "new_input = np.array([[91.9765, 92.2030, 91.8570, -0.12]])\n",
    "\n",
    "new_input_scaled = scaler.transform(new_input)\n",
    "\n",
    "predicted_price = model.predict(new_input_scaled)\n",
    "\n",
    "print(predicted_price)"
   ]
  },
  {
   "cell_type": "code",
   "execution_count": null,
   "metadata": {},
   "outputs": [],
   "source": []
  }
 ],
 "metadata": {
  "kernelspec": {
   "display_name": "base",
   "language": "python",
   "name": "python3"
  },
  "language_info": {
   "codemirror_mode": {
    "name": "ipython",
    "version": 3
   },
   "file_extension": ".py",
   "mimetype": "text/x-python",
   "name": "python",
   "nbconvert_exporter": "python",
   "pygments_lexer": "ipython3",
   "version": "3.8.5"
  }
 },
 "nbformat": 4,
 "nbformat_minor": 2
}
